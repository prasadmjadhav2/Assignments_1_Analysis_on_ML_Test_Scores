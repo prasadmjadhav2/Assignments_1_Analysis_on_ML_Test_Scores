{
 "cells": [
  {
   "cell_type": "markdown",
   "id": "65c3077a",
   "metadata": {},
   "source": [
    "### Task 1_Analysis on ML Test Scores\n",
    "`Prasad Jadhav`"
   ]
  },
  {
   "cell_type": "markdown",
   "id": "83af68bb",
   "metadata": {},
   "source": [
    "- **Batch** : Represents the Batch Name\n",
    "\n",
    "- **User_ID** : Represents the Unique Student ID\n",
    "\n",
    "- **Score** : Represents the Score Out of 7"
   ]
  },
  {
   "cell_type": "code",
   "execution_count": 1,
   "id": "a51bbf03",
   "metadata": {},
   "outputs": [],
   "source": [
    "import pandas as pd\n",
    "import numpy as np\n",
    "\n",
    "import matplotlib.pyplot as plt\n",
    "import seaborn as sns\n",
    "\n",
    "from sklearn.cluster import KMeans"
   ]
  },
  {
   "cell_type": "code",
   "execution_count": 2,
   "id": "72da0cb2",
   "metadata": {},
   "outputs": [],
   "source": [
    "import warnings\n",
    "warnings.filterwarnings('ignore')"
   ]
  },
  {
   "cell_type": "code",
   "execution_count": 3,
   "id": "c9a8dac6",
   "metadata": {},
   "outputs": [
    {
     "data": {
      "text/plain": [
       "(149, 3)"
      ]
     },
     "execution_count": 3,
     "metadata": {},
     "output_type": "execute_result"
    }
   ],
   "source": [
    "dataset = pd.read_csv('scores_data.csv')\n",
    "dataset.shape"
   ]
  },
  {
   "cell_type": "code",
   "execution_count": 4,
   "id": "61066da5",
   "metadata": {},
   "outputs": [
    {
     "data": {
      "text/html": [
       "<div>\n",
       "<style scoped>\n",
       "    .dataframe tbody tr th:only-of-type {\n",
       "        vertical-align: middle;\n",
       "    }\n",
       "\n",
       "    .dataframe tbody tr th {\n",
       "        vertical-align: top;\n",
       "    }\n",
       "\n",
       "    .dataframe thead th {\n",
       "        text-align: right;\n",
       "    }\n",
       "</style>\n",
       "<table border=\"1\" class=\"dataframe\">\n",
       "  <thead>\n",
       "    <tr style=\"text-align: right;\">\n",
       "      <th></th>\n",
       "      <th>Batch</th>\n",
       "      <th>User_ID</th>\n",
       "      <th>Score</th>\n",
       "    </tr>\n",
       "  </thead>\n",
       "  <tbody>\n",
       "    <tr>\n",
       "      <th>0</th>\n",
       "      <td>AI_ELITE_7</td>\n",
       "      <td>uid_149</td>\n",
       "      <td>6 / 7</td>\n",
       "    </tr>\n",
       "    <tr>\n",
       "      <th>1</th>\n",
       "      <td>AI_ELITE_7</td>\n",
       "      <td>uid_148</td>\n",
       "      <td>6 / 7</td>\n",
       "    </tr>\n",
       "    <tr>\n",
       "      <th>2</th>\n",
       "      <td>AI_ELITE_7</td>\n",
       "      <td>uid_147</td>\n",
       "      <td>7 / 7</td>\n",
       "    </tr>\n",
       "    <tr>\n",
       "      <th>3</th>\n",
       "      <td>AI_ELITE_7</td>\n",
       "      <td>uid_146</td>\n",
       "      <td>7 / 7</td>\n",
       "    </tr>\n",
       "    <tr>\n",
       "      <th>4</th>\n",
       "      <td>AI_ELITE_7</td>\n",
       "      <td>uid_145</td>\n",
       "      <td>4 / 7</td>\n",
       "    </tr>\n",
       "  </tbody>\n",
       "</table>\n",
       "</div>"
      ],
      "text/plain": [
       "       Batch  User_ID     Score   \n",
       "0  AI_ELITE_7  uid_149       6 / 7\n",
       "1  AI_ELITE_7  uid_148       6 / 7\n",
       "2  AI_ELITE_7  uid_147       7 / 7\n",
       "3  AI_ELITE_7  uid_146       7 / 7\n",
       "4  AI_ELITE_7  uid_145       4 / 7"
      ]
     },
     "execution_count": 4,
     "metadata": {},
     "output_type": "execute_result"
    }
   ],
   "source": [
    "dataset.head()"
   ]
  },
  {
   "cell_type": "code",
   "execution_count": 5,
   "id": "2d809b02",
   "metadata": {},
   "outputs": [
    {
     "data": {
      "text/html": [
       "<div>\n",
       "<style scoped>\n",
       "    .dataframe tbody tr th:only-of-type {\n",
       "        vertical-align: middle;\n",
       "    }\n",
       "\n",
       "    .dataframe tbody tr th {\n",
       "        vertical-align: top;\n",
       "    }\n",
       "\n",
       "    .dataframe thead th {\n",
       "        text-align: right;\n",
       "    }\n",
       "</style>\n",
       "<table border=\"1\" class=\"dataframe\">\n",
       "  <thead>\n",
       "    <tr style=\"text-align: right;\">\n",
       "      <th></th>\n",
       "      <th>Batch</th>\n",
       "      <th>User_ID</th>\n",
       "      <th>Score</th>\n",
       "    </tr>\n",
       "  </thead>\n",
       "  <tbody>\n",
       "    <tr>\n",
       "      <th>144</th>\n",
       "      <td>AI_ELITE_4</td>\n",
       "      <td>uid_5</td>\n",
       "      <td>4 / 7</td>\n",
       "    </tr>\n",
       "    <tr>\n",
       "      <th>145</th>\n",
       "      <td>AI_ELITE_4</td>\n",
       "      <td>uid_4</td>\n",
       "      <td>4 / 7</td>\n",
       "    </tr>\n",
       "    <tr>\n",
       "      <th>146</th>\n",
       "      <td>AI_ELITE_4</td>\n",
       "      <td>uid_3</td>\n",
       "      <td>4 / 7</td>\n",
       "    </tr>\n",
       "    <tr>\n",
       "      <th>147</th>\n",
       "      <td>AI_ELITE_4</td>\n",
       "      <td>uid_2</td>\n",
       "      <td>3 / 7</td>\n",
       "    </tr>\n",
       "    <tr>\n",
       "      <th>148</th>\n",
       "      <td>AI_ELITE_4</td>\n",
       "      <td>uid_1</td>\n",
       "      <td>2 / 7</td>\n",
       "    </tr>\n",
       "  </tbody>\n",
       "</table>\n",
       "</div>"
      ],
      "text/plain": [
       "         Batch  User_ID     Score   \n",
       "144  AI_ELITE_4    uid_5       4 / 7\n",
       "145  AI_ELITE_4    uid_4       4 / 7\n",
       "146  AI_ELITE_4    uid_3       4 / 7\n",
       "147  AI_ELITE_4    uid_2       3 / 7\n",
       "148  AI_ELITE_4    uid_1       2 / 7"
      ]
     },
     "execution_count": 5,
     "metadata": {},
     "output_type": "execute_result"
    }
   ],
   "source": [
    "dataset.tail()"
   ]
  },
  {
   "cell_type": "code",
   "execution_count": 6,
   "id": "ed7bf85f",
   "metadata": {},
   "outputs": [
    {
     "name": "stdout",
     "output_type": "stream",
     "text": [
      "Number of Rows: 149\n",
      "Number of Columns: 3\n"
     ]
    }
   ],
   "source": [
    "print('Number of Rows:',dataset.shape[0])\n",
    "print('Number of Columns:',dataset.shape[1])"
   ]
  },
  {
   "cell_type": "code",
   "execution_count": 7,
   "id": "6fb5eae5",
   "metadata": {},
   "outputs": [
    {
     "name": "stdout",
     "output_type": "stream",
     "text": [
      "<class 'pandas.core.frame.DataFrame'>\n",
      "RangeIndex: 149 entries, 0 to 148\n",
      "Data columns (total 3 columns):\n",
      " #   Column       Non-Null Count  Dtype \n",
      "---  ------       --------------  ----- \n",
      " 0   Batch        149 non-null    object\n",
      " 1   User_ID      149 non-null    object\n",
      " 2      Score     149 non-null    object\n",
      "dtypes: object(3)\n",
      "memory usage: 3.6+ KB\n"
     ]
    }
   ],
   "source": [
    "dataset.info()"
   ]
  },
  {
   "cell_type": "code",
   "execution_count": 8,
   "id": "783e8f89",
   "metadata": {},
   "outputs": [
    {
     "data": {
      "text/plain": [
       "Batch          0\n",
       "User_ID        0\n",
       "   Score       0\n",
       "dtype: int64"
      ]
     },
     "execution_count": 8,
     "metadata": {},
     "output_type": "execute_result"
    }
   ],
   "source": [
    "dataset.isnull().sum()"
   ]
  },
  {
   "cell_type": "code",
   "execution_count": 9,
   "id": "3f6b7657",
   "metadata": {},
   "outputs": [
    {
     "data": {
      "text/plain": [
       "0"
      ]
     },
     "execution_count": 9,
     "metadata": {},
     "output_type": "execute_result"
    }
   ],
   "source": [
    "dataset.duplicated().sum()"
   ]
  },
  {
   "cell_type": "code",
   "execution_count": 10,
   "id": "33b3398b",
   "metadata": {},
   "outputs": [
    {
     "data": {
      "text/html": [
       "<div>\n",
       "<style scoped>\n",
       "    .dataframe tbody tr th:only-of-type {\n",
       "        vertical-align: middle;\n",
       "    }\n",
       "\n",
       "    .dataframe tbody tr th {\n",
       "        vertical-align: top;\n",
       "    }\n",
       "\n",
       "    .dataframe thead th {\n",
       "        text-align: right;\n",
       "    }\n",
       "</style>\n",
       "<table border=\"1\" class=\"dataframe\">\n",
       "  <thead>\n",
       "    <tr style=\"text-align: right;\">\n",
       "      <th></th>\n",
       "      <th>Batch</th>\n",
       "      <th>User_ID</th>\n",
       "      <th>Score</th>\n",
       "    </tr>\n",
       "  </thead>\n",
       "  <tbody>\n",
       "    <tr>\n",
       "      <th>count</th>\n",
       "      <td>149</td>\n",
       "      <td>149</td>\n",
       "      <td>149</td>\n",
       "    </tr>\n",
       "    <tr>\n",
       "      <th>unique</th>\n",
       "      <td>3</td>\n",
       "      <td>149</td>\n",
       "      <td>8</td>\n",
       "    </tr>\n",
       "    <tr>\n",
       "      <th>top</th>\n",
       "      <td>AI_ELITE_7</td>\n",
       "      <td>uid_149</td>\n",
       "      <td>4 / 7</td>\n",
       "    </tr>\n",
       "    <tr>\n",
       "      <th>freq</th>\n",
       "      <td>53</td>\n",
       "      <td>1</td>\n",
       "      <td>40</td>\n",
       "    </tr>\n",
       "  </tbody>\n",
       "</table>\n",
       "</div>"
      ],
      "text/plain": [
       "            Batch  User_ID     Score   \n",
       "count          149      149         149\n",
       "unique           3      149           8\n",
       "top     AI_ELITE_7  uid_149       4 / 7\n",
       "freq            53        1          40"
      ]
     },
     "execution_count": 10,
     "metadata": {},
     "output_type": "execute_result"
    }
   ],
   "source": [
    "dataset.describe()"
   ]
  },
  {
   "cell_type": "code",
   "execution_count": 11,
   "id": "e93e21f0",
   "metadata": {},
   "outputs": [],
   "source": [
    "dataset.columns = dataset.columns.str.replace(' ', '')"
   ]
  },
  {
   "cell_type": "code",
   "execution_count": 12,
   "id": "b00a44f4",
   "metadata": {},
   "outputs": [
    {
     "data": {
      "text/plain": [
       "AI_ELITE_7    53\n",
       "AI_ELITE_6    48\n",
       "AI_ELITE_4    48\n",
       "Name: Batch, dtype: int64"
      ]
     },
     "execution_count": 12,
     "metadata": {},
     "output_type": "execute_result"
    }
   ],
   "source": [
    "dataset['Batch'].value_counts()"
   ]
  },
  {
   "cell_type": "code",
   "execution_count": 13,
   "id": "0b162e44",
   "metadata": {
    "scrolled": true
   },
   "outputs": [],
   "source": [
    "dataset['Batch'] = dataset['Batch'].str.replace('AI_ELITE_', '')"
   ]
  },
  {
   "cell_type": "code",
   "execution_count": 14,
   "id": "f31141c4",
   "metadata": {},
   "outputs": [
    {
     "data": {
      "text/plain": [
       "7    53\n",
       "6    48\n",
       "4    48\n",
       "Name: Batch, dtype: int64"
      ]
     },
     "execution_count": 14,
     "metadata": {},
     "output_type": "execute_result"
    }
   ],
   "source": [
    "dataset['Batch'].value_counts()"
   ]
  },
  {
   "cell_type": "code",
   "execution_count": 15,
   "id": "e6093658",
   "metadata": {},
   "outputs": [
    {
     "data": {
      "text/plain": [
       "array(['uid_149', 'uid_148', 'uid_147', 'uid_146', 'uid_145', 'uid_144',\n",
       "       'uid_143', 'uid_142', 'uid_141', 'uid_140', 'uid_139', 'uid_138',\n",
       "       'uid_137', 'uid_136', 'uid_135', 'uid_134', 'uid_133', 'uid_132',\n",
       "       'uid_131', 'uid_130', 'uid_129', 'uid_128', 'uid_127', 'uid_126',\n",
       "       'uid_125', 'uid_124', 'uid_123', 'uid_122', 'uid_121', 'uid_120',\n",
       "       'uid_119', 'uid_118', 'uid_117', 'uid_116', 'uid_115', 'uid_114',\n",
       "       'uid_113', 'uid_112', 'uid_111', 'uid_110', 'uid_109', 'uid_108',\n",
       "       'uid_107', 'uid_106', 'uid_105', 'uid_104', 'uid_103', 'uid_102',\n",
       "       'uid_101', 'uid_100', 'uid_99', 'uid_98', 'uid_97', 'uid_96',\n",
       "       'uid_95', 'uid_94', 'uid_93', 'uid_92', 'uid_91', 'uid_90',\n",
       "       'uid_89', 'uid_88', 'uid_87', 'uid_86', 'uid_85', 'uid_84',\n",
       "       'uid_83', 'uid_82', 'uid_81', 'uid_80', 'uid_79', 'uid_78',\n",
       "       'uid_77', 'uid_76', 'uid_75', 'uid_74', 'uid_73', 'uid_72',\n",
       "       'uid_71', 'uid_70', 'uid_69', 'uid_68', 'uid_67', 'uid_66',\n",
       "       'uid_65', 'uid_64', 'uid_63', 'uid_62', 'uid_61', 'uid_60',\n",
       "       'uid_59', 'uid_58', 'uid_57', 'uid_56', 'uid_55', 'uid_54',\n",
       "       'uid_53', 'uid_52', 'uid_51', 'uid_50', 'uid_49', 'uid_48',\n",
       "       'uid_47', 'uid_46', 'uid_45', 'uid_44', 'uid_43', 'uid_42',\n",
       "       'uid_41', 'uid_40', 'uid_39', 'uid_38', 'uid_37', 'uid_36',\n",
       "       'uid_35', 'uid_34', 'uid_33', 'uid_32', 'uid_31', 'uid_30',\n",
       "       'uid_29', 'uid_28', 'uid_27', 'uid_26', 'uid_25', 'uid_24',\n",
       "       'uid_23', 'uid_22', 'uid_21', 'uid_20', 'uid_19', 'uid_18',\n",
       "       'uid_17', 'uid_16', 'uid_15', 'uid_14', 'uid_13', 'uid_12',\n",
       "       'uid_11', 'uid_10', 'uid_9', 'uid_8', 'uid_7', 'uid_6', 'uid_5',\n",
       "       'uid_4', 'uid_3', 'uid_2', 'uid_1'], dtype=object)"
      ]
     },
     "execution_count": 15,
     "metadata": {},
     "output_type": "execute_result"
    }
   ],
   "source": [
    "dataset['User_ID'].unique()"
   ]
  },
  {
   "cell_type": "code",
   "execution_count": 16,
   "id": "94d29052",
   "metadata": {},
   "outputs": [],
   "source": [
    "dataset['User_ID'] = dataset['User_ID'].str.replace('uid_', '')"
   ]
  },
  {
   "cell_type": "code",
   "execution_count": 17,
   "id": "5465fc49",
   "metadata": {},
   "outputs": [
    {
     "data": {
      "text/plain": [
       "array(['149', '148', '147', '146', '145', '144', '143', '142', '141',\n",
       "       '140', '139', '138', '137', '136', '135', '134', '133', '132',\n",
       "       '131', '130', '129', '128', '127', '126', '125', '124', '123',\n",
       "       '122', '121', '120', '119', '118', '117', '116', '115', '114',\n",
       "       '113', '112', '111', '110', '109', '108', '107', '106', '105',\n",
       "       '104', '103', '102', '101', '100', '99', '98', '97', '96', '95',\n",
       "       '94', '93', '92', '91', '90', '89', '88', '87', '86', '85', '84',\n",
       "       '83', '82', '81', '80', '79', '78', '77', '76', '75', '74', '73',\n",
       "       '72', '71', '70', '69', '68', '67', '66', '65', '64', '63', '62',\n",
       "       '61', '60', '59', '58', '57', '56', '55', '54', '53', '52', '51',\n",
       "       '50', '49', '48', '47', '46', '45', '44', '43', '42', '41', '40',\n",
       "       '39', '38', '37', '36', '35', '34', '33', '32', '31', '30', '29',\n",
       "       '28', '27', '26', '25', '24', '23', '22', '21', '20', '19', '18',\n",
       "       '17', '16', '15', '14', '13', '12', '11', '10', '9', '8', '7', '6',\n",
       "       '5', '4', '3', '2', '1'], dtype=object)"
      ]
     },
     "execution_count": 17,
     "metadata": {},
     "output_type": "execute_result"
    }
   ],
   "source": [
    "dataset['User_ID'].unique()"
   ]
  },
  {
   "cell_type": "code",
   "execution_count": 18,
   "id": "7e492545",
   "metadata": {},
   "outputs": [
    {
     "data": {
      "text/plain": [
       "4 / 7    40\n",
       "5 / 7    32\n",
       "3 / 7    24\n",
       "6 / 7    18\n",
       "7 / 7    18\n",
       "2 / 7    12\n",
       "1 / 7     3\n",
       "0 / 7     2\n",
       "Name: Score, dtype: int64"
      ]
     },
     "execution_count": 18,
     "metadata": {},
     "output_type": "execute_result"
    }
   ],
   "source": [
    "dataset['Score'].value_counts()"
   ]
  },
  {
   "cell_type": "code",
   "execution_count": 19,
   "id": "00940328",
   "metadata": {},
   "outputs": [],
   "source": [
    "# Score : Represents the Score Out of 7\n",
    "dataset['Score'] = dataset['Score'].str.replace('/ 7', '')"
   ]
  },
  {
   "cell_type": "code",
   "execution_count": 20,
   "id": "69ee0dd2",
   "metadata": {},
   "outputs": [
    {
     "data": {
      "text/plain": [
       "4     40\n",
       "5     32\n",
       "3     24\n",
       "6     18\n",
       "7     18\n",
       "2     12\n",
       "1      3\n",
       "0      2\n",
       "Name: Score, dtype: int64"
      ]
     },
     "execution_count": 20,
     "metadata": {},
     "output_type": "execute_result"
    }
   ],
   "source": [
    "dataset['Score'].value_counts()"
   ]
  },
  {
   "cell_type": "code",
   "execution_count": 21,
   "id": "7ca7cc0d",
   "metadata": {},
   "outputs": [
    {
     "data": {
      "text/plain": [
       "Batch      object\n",
       "User_ID    object\n",
       "Score      object\n",
       "dtype: object"
      ]
     },
     "execution_count": 21,
     "metadata": {},
     "output_type": "execute_result"
    }
   ],
   "source": [
    "dataset.dtypes"
   ]
  },
  {
   "cell_type": "code",
   "execution_count": 22,
   "id": "6174b829",
   "metadata": {},
   "outputs": [],
   "source": [
    "# Change Datatypes\n",
    "dataset['Batch'] = dataset['Batch'].astype('int64')\n",
    "dataset['User_ID'] = dataset['User_ID'].astype('int64')\n",
    "dataset['Score'] = dataset['Score'].astype('int64')"
   ]
  },
  {
   "cell_type": "code",
   "execution_count": 23,
   "id": "3d9c8aba",
   "metadata": {},
   "outputs": [
    {
     "data": {
      "text/plain": [
       "Batch      int64\n",
       "User_ID    int64\n",
       "Score      int64\n",
       "dtype: object"
      ]
     },
     "execution_count": 23,
     "metadata": {},
     "output_type": "execute_result"
    }
   ],
   "source": [
    "dataset.dtypes"
   ]
  },
  {
   "cell_type": "code",
   "execution_count": 24,
   "id": "36887a1f",
   "metadata": {},
   "outputs": [
    {
     "data": {
      "text/plain": [
       "count    149.000000\n",
       "mean       4.382550\n",
       "std        1.592199\n",
       "min        0.000000\n",
       "25%        3.000000\n",
       "50%        4.000000\n",
       "75%        5.000000\n",
       "max        7.000000\n",
       "Name: Score, dtype: float64"
      ]
     },
     "execution_count": 24,
     "metadata": {},
     "output_type": "execute_result"
    }
   ],
   "source": [
    "dataset['Score'].describe()"
   ]
  },
  {
   "cell_type": "code",
   "execution_count": 25,
   "id": "64f1a9e8",
   "metadata": {},
   "outputs": [
    {
     "data": {
      "image/png": "[encoded data removed]",
      "text/plain": [
       "<Figure size 432x288 with 1 Axes>"
      ]
     },
     "metadata": {
      "needs_background": "light"
     },
     "output_type": "display_data"
    }
   ],
   "source": [
    "sns.distplot(dataset['Score'])\n",
    "plt.show()"
   ]
  },
  {
   "cell_type": "code",
   "execution_count": 26,
   "id": "24141b4f",
   "metadata": {},
   "outputs": [
    {
     "data": {
      "text/plain": [
       "7    53\n",
       "6    48\n",
       "4    48\n",
       "Name: Batch, dtype: int64"
      ]
     },
     "execution_count": 26,
     "metadata": {},
     "output_type": "execute_result"
    }
   ],
   "source": [
    "dataset['Batch'].value_counts()"
   ]
  },
  {
   "cell_type": "code",
   "execution_count": 27,
   "id": "b2ac182d",
   "metadata": {
    "scrolled": false
   },
   "outputs": [
    {
     "data": {
      "image/png": "[encoded data removed]",
      "text/plain": [
       "<Figure size 432x288 with 1 Axes>"
      ]
     },
     "metadata": {
      "needs_background": "light"
     },
     "output_type": "display_data"
    }
   ],
   "source": [
    "sns.countplot(dataset['Batch'],palette='Set2')\n",
    "plt.show()"
   ]
  },
  {
   "cell_type": "code",
   "execution_count": 39,
   "id": "3104d975",
   "metadata": {},
   "outputs": [
    {
     "data": {
      "image/png": "[encoded data removed]",
      "text/plain": [
       "<Figure size 432x288 with 1 Axes>"
      ]
     },
     "metadata": {
      "needs_background": "light"
     },
     "output_type": "display_data"
    }
   ],
   "source": [
    "sns.countplot(dataset['Score'],palette='Set2')\n",
    "plt.show()"
   ]
  },
  {
   "cell_type": "code",
   "execution_count": 42,
   "id": "82df4328",
   "metadata": {},
   "outputs": [
    {
     "data": {
      "image/png": "[encoded data removed]",
      "text/plain": [
       "<Figure size 432x288 with 1 Axes>"
      ]
     },
     "metadata": {
      "needs_background": "light"
     },
     "output_type": "display_data"
    }
   ],
   "source": [
    "sns.scatterplot(dataset['Score'],dataset['User_ID'])\n",
    "plt.show()"
   ]
  },
  {
   "cell_type": "code",
   "execution_count": 50,
   "id": "f3521d87",
   "metadata": {},
   "outputs": [
    {
     "data": {
      "image/png": "[encoded data removed]",
      "text/plain": [
       "<Figure size 432x288 with 1 Axes>"
      ]
     },
     "metadata": {
      "needs_background": "light"
     },
     "output_type": "display_data"
    }
   ],
   "source": [
    "sns.barplot(dataset['Batch'],dataset['User_ID'],palette='Set2')\n",
    "plt.show()"
   ]
  },
  {
   "cell_type": "code",
   "execution_count": 51,
   "id": "084e2986",
   "metadata": {},
   "outputs": [
    {
     "data": {
      "image/png": "[encoded data removed]",
      "text/plain": [
       "<Figure size 432x288 with 1 Axes>"
      ]
     },
     "metadata": {
      "needs_background": "light"
     },
     "output_type": "display_data"
    }
   ],
   "source": [
    "sns.barplot(dataset['Batch'],dataset['User_ID'],hue=dataset['Score'],palette='Set2')\n",
    "plt.show()"
   ]
  },
  {
   "cell_type": "code",
   "execution_count": 72,
   "id": "ac8c2f83",
   "metadata": {},
   "outputs": [
    {
     "data": {
      "image/png": "[encoded data removed]",
      "text/plain": [
       "<Figure size 432x288 with 1 Axes>"
      ]
     },
     "metadata": {
      "needs_background": "light"
     },
     "output_type": "display_data"
    }
   ],
   "source": [
    "sns.kdeplot(dataset['User_ID'])\n",
    "sns.kdeplot(dataset['Score'])\n",
    "plt.show()"
   ]
  },
  {
   "cell_type": "code",
   "execution_count": 54,
   "id": "acc8d7ba",
   "metadata": {},
   "outputs": [
    {
     "data": {
      "image/png": "[encoded data removed]",
      "text/plain": [
       "<Figure size 432x288 with 1 Axes>"
      ]
     },
     "metadata": {
      "needs_background": "light"
     },
     "output_type": "display_data"
    }
   ],
   "source": [
    "sns.barplot(dataset['Score'],dataset['User_ID'])\n",
    "plt.show()"
   ]
  },
  {
   "cell_type": "code",
   "execution_count": 59,
   "id": "85884495",
   "metadata": {},
   "outputs": [
    {
     "data": {
      "text/plain": [
       "4    40\n",
       "5    32\n",
       "3    24\n",
       "6    18\n",
       "7    18\n",
       "2    12\n",
       "1     3\n",
       "0     2\n",
       "Name: Score, dtype: int64"
      ]
     },
     "execution_count": 59,
     "metadata": {},
     "output_type": "execute_result"
    }
   ],
   "source": [
    "dataset['Score'].value_counts()"
   ]
  },
  {
   "cell_type": "code",
   "execution_count": 56,
   "id": "4e14e087",
   "metadata": {},
   "outputs": [
    {
     "data": {
      "image/png": "[encoded data removed]",
      "text/plain": [
       "<Figure size 432x288 with 1 Axes>"
      ]
     },
     "metadata": {
      "needs_background": "light"
     },
     "output_type": "display_data"
    }
   ],
   "source": [
    "sns.barplot(dataset['Score'],dataset['Batch'],palette='Set2')\n",
    "plt.show()"
   ]
  },
  {
   "cell_type": "code",
   "execution_count": 28,
   "id": "4b9f5487",
   "metadata": {},
   "outputs": [
    {
     "data": {
      "text/plain": [
       "array([149, 148, 147, 146, 145, 144, 143, 142, 141, 140, 139, 138, 137,\n",
       "       136, 135, 134, 133, 132, 131, 130, 129, 128, 127, 126, 125, 124,\n",
       "       123, 122, 121, 120, 119, 118, 117, 116, 115, 114, 113, 112, 111,\n",
       "       110, 109, 108, 107, 106, 105, 104, 103, 102, 101, 100,  99,  98,\n",
       "        97,  96,  95,  94,  93,  92,  91,  90,  89,  88,  87,  86,  85,\n",
       "        84,  83,  82,  81,  80,  79,  78,  77,  76,  75,  74,  73,  72,\n",
       "        71,  70,  69,  68,  67,  66,  65,  64,  63,  62,  61,  60,  59,\n",
       "        58,  57,  56,  55,  54,  53,  52,  51,  50,  49,  48,  47,  46,\n",
       "        45,  44,  43,  42,  41,  40,  39,  38,  37,  36,  35,  34,  33,\n",
       "        32,  31,  30,  29,  28,  27,  26,  25,  24,  23,  22,  21,  20,\n",
       "        19,  18,  17,  16,  15,  14,  13,  12,  11,  10,   9,   8,   7,\n",
       "         6,   5,   4,   3,   2,   1], dtype=int64)"
      ]
     },
     "execution_count": 28,
     "metadata": {},
     "output_type": "execute_result"
    }
   ],
   "source": [
    "dataset['User_ID'].unique()"
   ]
  },
  {
   "cell_type": "code",
   "execution_count": 29,
   "id": "2e302493",
   "metadata": {},
   "outputs": [],
   "source": [
    "num_features = [feature for feature in dataset.columns]"
   ]
  },
  {
   "cell_type": "code",
   "execution_count": 30,
   "id": "fe05084a",
   "metadata": {},
   "outputs": [
    {
     "data": {
      "image/png": "[encoded data removed]",
      "text/plain": [
       "<Figure size 1080x1080 with 3 Axes>"
      ]
     },
     "metadata": {
      "needs_background": "light"
     },
     "output_type": "display_data"
    }
   ],
   "source": [
    "plt.figure(figsize=(15,15))\n",
    "plt.suptitle('Univariate Analysis of Features',fontweight='bold',fontsize=15,y=1)\n",
    "\n",
    "for i in range(0,len(num_features)):\n",
    "    plt.subplot(10,4,i+1)\n",
    "    sns.kdeplot(x=dataset[num_features[i]],shade=True)\n",
    "    plt.tight_layout()"
   ]
  },
  {
   "cell_type": "code",
   "execution_count": 31,
   "id": "4e7bafd5",
   "metadata": {},
   "outputs": [
    {
     "data": {
      "image/png": "[encoded data removed]",
      "text/plain": [
       "<Figure size 1080x1080 with 3 Axes>"
      ]
     },
     "metadata": {
      "needs_background": "light"
     },
     "output_type": "display_data"
    }
   ],
   "source": [
    "plt.figure(figsize = (15,15))\n",
    "plt.suptitle('Univariate Analysis of Features',fontweight='bold',fontsize=20,y=1)\n",
    "\n",
    "for i in range(0,len(num_features)):\n",
    "    plt.subplot(10,4,i+1)\n",
    "    sns.boxplot(data=dataset,x=num_features[i])\n",
    "    plt.xlabel(num_features[i])\n",
    "    plt.tight_layout()"
   ]
  },
  {
   "cell_type": "code",
   "execution_count": 32,
   "id": "e1c2f7f2",
   "metadata": {},
   "outputs": [
    {
     "data": {
      "image/png": "[encoded data removed]",
      "text/plain": [
       "<Figure size 432x288 with 1 Axes>"
      ]
     },
     "metadata": {
      "needs_background": "light"
     },
     "output_type": "display_data"
    }
   ],
   "source": [
    "sns.scatterplot(dataset['User_ID'],dataset['Score'])\n",
    "plt.show()"
   ]
  },
  {
   "cell_type": "code",
   "execution_count": 33,
   "id": "e30d37cb",
   "metadata": {},
   "outputs": [
    {
     "data": {
      "image/png": "[encoded data removed]",
      "text/plain": [
       "<Figure size 432x288 with 1 Axes>"
      ]
     },
     "metadata": {
      "needs_background": "light"
     },
     "output_type": "display_data"
    }
   ],
   "source": [
    "sns.scatterplot(dataset['Batch'],dataset['Score'])\n",
    "plt.show()"
   ]
  },
  {
   "cell_type": "code",
   "execution_count": 68,
   "id": "70b4e59e",
   "metadata": {},
   "outputs": [],
   "source": [
    "X = dataset[['User_ID','Score']]"
   ]
  },
  {
   "cell_type": "code",
   "execution_count": 69,
   "id": "f36d98f8",
   "metadata": {},
   "outputs": [
    {
     "data": {
      "text/html": [
       "<style>#sk-container-id-2 {color: black;background-color: white;}#sk-container-id-2 pre{padding: 0;}#sk-container-id-2 div.sk-toggleable {background-color: white;}#sk-container-id-2 label.sk-toggleable__label {cursor: pointer;display: block;width: 100%;margin-bottom: 0;padding: 0.3em;box-sizing: border-box;text-align: center;}#sk-container-id-2 label.sk-toggleable__label-arrow:before {content: \"▸\";float: left;margin-right: 0.25em;color: #696969;}#sk-container-id-2 label.sk-toggleable__label-arrow:hover:before {color: black;}#sk-container-id-2 div.sk-estimator:hover label.sk-toggleable__label-arrow:before {color: black;}#sk-container-id-2 div.sk-toggleable__content {max-height: 0;max-width: 0;overflow: hidden;text-align: left;background-color: #f0f8ff;}#sk-container-id-2 div.sk-toggleable__content pre {margin: 0.2em;color: black;border-radius: 0.25em;background-color: #f0f8ff;}#sk-container-id-2 input.sk-toggleable__control:checked~div.sk-toggleable__content {max-height: 200px;max-width: 100%;overflow: auto;}#sk-container-id-2 input.sk-toggleable__control:checked~label.sk-toggleable__label-arrow:before {content: \"▾\";}#sk-container-id-2 div.sk-estimator input.sk-toggleable__control:checked~label.sk-toggleable__label {background-color: #d4ebff;}#sk-container-id-2 div.sk-label input.sk-toggleable__control:checked~label.sk-toggleable__label {background-color: #d4ebff;}#sk-container-id-2 input.sk-hidden--visually {border: 0;clip: rect(1px 1px 1px 1px);clip: rect(1px, 1px, 1px, 1px);height: 1px;margin: -1px;overflow: hidden;padding: 0;position: absolute;width: 1px;}#sk-container-id-2 div.sk-estimator {font-family: monospace;background-color: #f0f8ff;border: 1px dotted black;border-radius: 0.25em;box-sizing: border-box;margin-bottom: 0.5em;}#sk-container-id-2 div.sk-estimator:hover {background-color: #d4ebff;}#sk-container-id-2 div.sk-parallel-item::after {content: \"\";width: 100%;border-bottom: 1px solid gray;flex-grow: 1;}#sk-container-id-2 div.sk-label:hover label.sk-toggleable__label {background-color: #d4ebff;}#sk-container-id-2 div.sk-serial::before {content: \"\";position: absolute;border-left: 1px solid gray;box-sizing: border-box;top: 0;bottom: 0;left: 50%;z-index: 0;}#sk-container-id-2 div.sk-serial {display: flex;flex-direction: column;align-items: center;background-color: white;padding-right: 0.2em;padding-left: 0.2em;position: relative;}#sk-container-id-2 div.sk-item {position: relative;z-index: 1;}#sk-container-id-2 div.sk-parallel {display: flex;align-items: stretch;justify-content: center;background-color: white;position: relative;}#sk-container-id-2 div.sk-item::before, #sk-container-id-2 div.sk-parallel-item::before {content: \"\";position: absolute;border-left: 1px solid gray;box-sizing: border-box;top: 0;bottom: 0;left: 50%;z-index: -1;}#sk-container-id-2 div.sk-parallel-item {display: flex;flex-direction: column;z-index: 1;position: relative;background-color: white;}#sk-container-id-2 div.sk-parallel-item:first-child::after {align-self: flex-end;width: 50%;}#sk-container-id-2 div.sk-parallel-item:last-child::after {align-self: flex-start;width: 50%;}#sk-container-id-2 div.sk-parallel-item:only-child::after {width: 0;}#sk-container-id-2 div.sk-dashed-wrapped {border: 1px dashed gray;margin: 0 0.4em 0.5em 0.4em;box-sizing: border-box;padding-bottom: 0.4em;background-color: white;}#sk-container-id-2 div.sk-label label {font-family: monospace;font-weight: bold;display: inline-block;line-height: 1.2em;}#sk-container-id-2 div.sk-label-container {text-align: center;}#sk-container-id-2 div.sk-container {/* jupyter's `normalize.less` sets `[hidden] { display: none; }` but bootstrap.min.css set `[hidden] { display: none !important; }` so we also need the `!important` here to be able to override the default hidden behavior on the sphinx rendered scikit-learn.org. See: https://github.com/scikit-learn/scikit-learn/issues/21755 */display: inline-block !important;position: relative;}#sk-container-id-2 div.sk-text-repr-fallback {display: none;}</style><div id=\"sk-container-id-2\" class=\"sk-top-container\"><div class=\"sk-text-repr-fallback\"><pre>KMeans(n_clusters=5)</pre><b>In a Jupyter environment, please rerun this cell to show the HTML representation or trust the notebook. <br />On GitHub, the HTML representation is unable to render, please try loading this page with nbviewer.org.</b></div><div class=\"sk-container\" hidden><div class=\"sk-item\"><div class=\"sk-estimator sk-toggleable\"><input class=\"sk-toggleable__control sk-hidden--visually\" id=\"sk-estimator-id-2\" type=\"checkbox\" checked><label for=\"sk-estimator-id-2\" class=\"sk-toggleable__label sk-toggleable__label-arrow\">KMeans</label><div class=\"sk-toggleable__content\"><pre>KMeans(n_clusters=5)</pre></div></div></div></div></div>"
      ],
      "text/plain": [
       "KMeans(n_clusters=5)"
      ]
     },
     "execution_count": 69,
     "metadata": {},
     "output_type": "execute_result"
    }
   ],
   "source": [
    "k_means = KMeans(n_clusters=5)\n",
    "k_means.fit(X)"
   ]
  },
  {
   "cell_type": "code",
   "execution_count": 70,
   "id": "55ad42a3",
   "metadata": {},
   "outputs": [
    {
     "data": {
      "text/plain": [
       "array([0, 0, 0, 0, 0, 0, 0, 0, 0, 0, 0, 0, 0, 0, 0, 0, 0, 0, 0, 0, 0, 0,\n",
       "       0, 0, 0, 0, 0, 0, 0, 0, 2, 2, 2, 2, 2, 2, 2, 2, 2, 2, 2, 2, 2, 2,\n",
       "       2, 2, 2, 2, 2, 2, 2, 2, 2, 2, 2, 2, 2, 2, 2, 4, 4, 4, 4, 4, 4, 4,\n",
       "       4, 4, 4, 4, 4, 4, 4, 4, 4, 4, 4, 4, 4, 4, 4, 4, 4, 4, 4, 4, 4, 4,\n",
       "       4, 1, 1, 1, 1, 1, 1, 1, 1, 1, 1, 1, 1, 1, 1, 1, 1, 1, 1, 1, 1, 1,\n",
       "       1, 1, 1, 1, 1, 1, 1, 1, 1, 3, 3, 3, 3, 3, 3, 3, 3, 3, 3, 3, 3, 3,\n",
       "       3, 3, 3, 3, 3, 3, 3, 3, 3, 3, 3, 3, 3, 3, 3, 3, 3])"
      ]
     },
     "execution_count": 70,
     "metadata": {},
     "output_type": "execute_result"
    }
   ],
   "source": [
    "k_means.fit_predict(X)"
   ]
  },
  {
   "cell_type": "code",
   "execution_count": 71,
   "id": "f0038cfd",
   "metadata": {},
   "outputs": [],
   "source": [
    "wcss = []\n",
    "\n",
    "for i in range(1,11):\n",
    "    k_means = KMeans(n_clusters=i)\n",
    "    k_means.fit(X)\n",
    "    wcss.append(k_means.inertia_)"
   ]
  },
  {
   "cell_type": "code",
   "execution_count": 72,
   "id": "84a75fb1",
   "metadata": {},
   "outputs": [
    {
     "data": {
      "text/plain": [
       "[276025.19463087246,\n",
       " 69254.2245045045,\n",
       " 30946.190612244904,\n",
       " 17547.177453769564,\n",
       " 11342.976826103077,\n",
       " 7966.251282051282,\n",
       " 5949.043628834933,\n",
       " 4614.389232886136,\n",
       " 3726.3161764705883,\n",
       " 3083.536721611722]"
      ]
     },
     "execution_count": 72,
     "metadata": {},
     "output_type": "execute_result"
    }
   ],
   "source": [
    "wcss"
   ]
  },
  {
   "cell_type": "code",
   "execution_count": 73,
   "id": "d53a87e6",
   "metadata": {},
   "outputs": [
    {
     "data": {
      "image/png": "[encoded data removed]",
      "text/plain": [
       "<Figure size 432x288 with 1 Axes>"
      ]
     },
     "metadata": {
      "needs_background": "light"
     },
     "output_type": "display_data"
    }
   ],
   "source": [
    "plt.plot(range(1,11),wcss)\n",
    "plt.title('Elbow Method')\n",
    "plt.xlabel('Number of Clusters')\n",
    "plt.ylabel('WCSS')\n",
    "plt.show()"
   ]
  },
  {
   "cell_type": "code",
   "execution_count": 74,
   "id": "489a9188",
   "metadata": {},
   "outputs": [],
   "source": [
    "k_means = KMeans(n_clusters=5,random_state=42)\n",
    "y_means = k_means.fit_predict(X)"
   ]
  },
  {
   "cell_type": "code",
   "execution_count": 75,
   "id": "2dbcd83b",
   "metadata": {},
   "outputs": [
    {
     "data": {
      "text/plain": [
       "array([1, 1, 1, 1, 1, 1, 1, 1, 1, 1, 1, 1, 1, 1, 1, 1, 1, 1, 1, 1, 1, 1,\n",
       "       1, 1, 1, 1, 1, 1, 1, 1, 1, 3, 3, 3, 3, 3, 3, 3, 3, 3, 3, 3, 3, 3,\n",
       "       3, 3, 3, 3, 3, 3, 3, 3, 3, 3, 3, 3, 3, 3, 3, 3, 0, 0, 0, 0, 0, 0,\n",
       "       0, 0, 0, 0, 0, 0, 0, 0, 0, 0, 0, 0, 0, 0, 0, 0, 0, 0, 0, 0, 0, 0,\n",
       "       0, 4, 4, 4, 4, 4, 4, 4, 4, 4, 4, 4, 4, 4, 4, 4, 4, 4, 4, 4, 4, 4,\n",
       "       4, 4, 4, 4, 4, 4, 4, 4, 4, 2, 2, 2, 2, 2, 2, 2, 2, 2, 2, 2, 2, 2,\n",
       "       2, 2, 2, 2, 2, 2, 2, 2, 2, 2, 2, 2, 2, 2, 2, 2, 2])"
      ]
     },
     "execution_count": 75,
     "metadata": {},
     "output_type": "execute_result"
    }
   ],
   "source": [
    "y_means"
   ]
  },
  {
   "cell_type": "code",
   "execution_count": 79,
   "id": "c9ff2c9e",
   "metadata": {},
   "outputs": [
    {
     "data": {
      "image/png": "[encoded data removed]",
      "text/plain": [
       "<Figure size 432x288 with 1 Axes>"
      ]
     },
     "metadata": {
      "needs_background": "light"
     },
     "output_type": "display_data"
    }
   ],
   "source": [
    "plt.scatter(X.iloc[y_means==0,0],X.iloc[y_means==0,1],s=50,color='red',label='Cluster 1',marker='*')\n",
    "plt.scatter(X.iloc[y_means==1,0],X.iloc[y_means==1,1],s=50,color='yellow',label='Cluster 2',marker='^')\n",
    "plt.scatter(X.iloc[y_means==2,0],X.iloc[y_means==2,1],s=50,color='green',label='Cluster 3',marker='<')\n",
    "plt.scatter(X.iloc[y_means==3,0],X.iloc[y_means==3,1],s=50,color='blue',label='Cluster 4',marker='<')\n",
    "plt.scatter(X.iloc[y_means==4,0],X.iloc[y_means==4,1],s=50,color='magenta',label='Cluster 5',marker='o')\n",
    "plt.scatter(k_means.cluster_centers_[:,0],k_means.cluster_centers_[:,1],s=50,color='black',marker='+')\n",
    "plt.title('Students Segmentation')\n",
    "plt.xlabel('User_ID')\n",
    "plt.ylabel('Score')\n",
    "plt.legend()\n",
    "plt.show()"
   ]
  },
  {
   "cell_type": "code",
   "execution_count": 78,
   "id": "59800c47",
   "metadata": {},
   "outputs": [
    {
     "data": {
      "text/plain": [
       "array([1])"
      ]
     },
     "execution_count": 78,
     "metadata": {},
     "output_type": "execute_result"
    }
   ],
   "source": [
    "k_means.predict([[145,4]])"
   ]
  },
  {
   "cell_type": "markdown",
   "id": "34b9338e",
   "metadata": {},
   "source": [
    "# "
   ]
  },
  {
   "cell_type": "markdown",
   "id": "7a202843",
   "metadata": {},
   "source": [
    "### Insights"
   ]
  },
  {
   "cell_type": "markdown",
   "id": "6072b099",
   "metadata": {},
   "source": [
    "- Most of all there are many students in batch 7\n",
    "- The highest score is in batch 7\n",
    "- Since there are more students in batch 7 the score is high\n",
    "- Smart students are in batch 6"
   ]
  }
 ],
 "metadata": {
  "kernelspec": {
   "display_name": "Python 3 (ipykernel)",
   "language": "python",
   "name": "python3"
  },
  "language_info": {
   "codemirror_mode": {
    "name": "ipython",
    "version": 3
   },
   "file_extension": ".py",
   "mimetype": "text/x-python",
   "name": "python",
   "nbconvert_exporter": "python",
   "pygments_lexer": "ipython3",
   "version": "3.10.5"
  }
 },
 "nbformat": 4,
 "nbformat_minor": 5
}
